{
 "cells": [
  {
   "cell_type": "code",
   "execution_count": 1,
   "id": "08c813d0-6d72-48ab-aca5-219763edf651",
   "metadata": {},
   "outputs": [
    {
     "name": "stdout",
     "output_type": "stream",
     "text": [
      "Defaulting to user installation because normal site-packages is not writeable\n",
      "Requirement already satisfied: mysql-connector-python in c:\\users\\balan\\appdata\\local\\packages\\pythonsoftwarefoundation.python.3.13_qbz5n2kfra8p0\\localcache\\local-packages\\python313\\site-packages (9.1.0)\n"
     ]
    }
   ],
   "source": [
    "!pip install mysql-connector-python"
   ]
  },
  {
   "cell_type": "code",
   "execution_count": 25,
   "id": "0f68a02b-123e-4e54-a633-cf6d897dd22c",
   "metadata": {},
   "outputs": [],
   "source": [
    "import mysql.connector as connector"
   ]
  },
  {
   "cell_type": "code",
   "execution_count": 26,
   "id": "3f0c5890-9088-497d-a3ce-9d1ce807ddf7",
   "metadata": {},
   "outputs": [],
   "source": [
    "connection = connector.connect(user=\"littlelemon\", password=\"w0rd$$@P\", db=\"littlelemondb\")"
   ]
  },
  {
   "cell_type": "code",
   "execution_count": 27,
   "id": "7e726ab2-e48b-4e8d-819e-05384ca972ec",
   "metadata": {},
   "outputs": [],
   "source": [
    "cursor = connection.cursor()"
   ]
  },
  {
   "cell_type": "code",
   "execution_count": 28,
   "id": "ff14f2d0-c725-4486-b521-e5a7aa4a994e",
   "metadata": {},
   "outputs": [],
   "source": [
    "show_tables_query=\"\"\"SHOW TABLES;\"\"\""
   ]
  },
  {
   "cell_type": "code",
   "execution_count": 29,
   "id": "6c6ab410-2aab-4bf9-ae23-2561beb7afa2",
   "metadata": {},
   "outputs": [],
   "source": [
    "cursor.execute(show_tables_query)"
   ]
  },
  {
   "cell_type": "code",
   "execution_count": 30,
   "id": "f942f9c7-2163-41b3-8783-7f1061ce59f9",
   "metadata": {},
   "outputs": [],
   "source": [
    "results=cursor.fetchall()"
   ]
  },
  {
   "cell_type": "code",
   "execution_count": 31,
   "id": "4bd1023a-3fb6-400c-8474-d56b078941d2",
   "metadata": {},
   "outputs": [
    {
     "name": "stdout",
     "output_type": "stream",
     "text": [
      "[('bookings',), ('customerdetails',), ('menu',), ('menuitems',), ('orderdeliverystatus',), ('orders',), ('ordersview',), ('staffinformation',)]\n"
     ]
    }
   ],
   "source": [
    "print(results)"
   ]
  },
  {
   "cell_type": "code",
   "execution_count": 32,
   "id": "228ab924-81cd-4492-9783-a56604867c18",
   "metadata": {},
   "outputs": [],
   "source": [
    "join_query=\"\"\"SELECT customerdetails.fullName, customerdetails.phone, customerdetails.email, orders.totalCost\n",
    "FROM customerdetails INNER JOIN orders ON customerdetails.customerID = orders.customerID\n",
    "WHERE orders.totalCost > 60;\"\"\""
   ]
  },
  {
   "cell_type": "code",
   "execution_count": 33,
   "id": "54fbed2c-9d86-440e-a26e-c7b5148b4546",
   "metadata": {},
   "outputs": [],
   "source": [
    "cursor.execute(join_query)"
   ]
  },
  {
   "cell_type": "code",
   "execution_count": 34,
   "id": "cc2a78d8-0add-4296-bdef-07f4aeffb5c6",
   "metadata": {},
   "outputs": [],
   "source": [
    "results=cursor.fetchall()"
   ]
  },
  {
   "cell_type": "code",
   "execution_count": 41,
   "id": "2c6251e6-c055-4656-bf23-a745df39ae46",
   "metadata": {},
   "outputs": [
    {
     "name": "stdout",
     "output_type": "stream",
     "text": [
      "('fullName', 'phone', 'email', 'totalCost')\n",
      "Jane Smith  |  234-567-8901  |  janesmith@example.com  |  90\n",
      "David Lee  |  789-012-3456  |  davidlee@example.com  |  150\n",
      "Sophia Hernandez  |  012-345-6789  |  sophiahernandez@example.com  |  75\n"
     ]
    }
   ],
   "source": [
    "print(cursor.column_names)\n",
    "for result in results:\n",
    "    print(result[0], \" | \", result[1], \" | \", result[2], \" | \", result[3])"
   ]
  },
  {
   "cell_type": "code",
   "execution_count": null,
   "id": "92300a0c-ceb9-4e05-82b5-d3422f156412",
   "metadata": {},
   "outputs": [],
   "source": []
  }
 ],
 "metadata": {
  "kernelspec": {
   "display_name": "Python 3 (ipykernel)",
   "language": "python",
   "name": "python3"
  },
  "language_info": {
   "codemirror_mode": {
    "name": "ipython",
    "version": 3
   },
   "file_extension": ".py",
   "mimetype": "text/x-python",
   "name": "python",
   "nbconvert_exporter": "python",
   "pygments_lexer": "ipython3",
   "version": "3.13.1"
  }
 },
 "nbformat": 4,
 "nbformat_minor": 5
}
